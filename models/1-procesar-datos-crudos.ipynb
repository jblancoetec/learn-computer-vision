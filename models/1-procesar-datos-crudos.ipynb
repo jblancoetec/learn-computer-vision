{
 "cells": [
  {
   "cell_type": "code",
   "execution_count": 1,
   "metadata": {},
   "outputs": [
    {
     "name": "stderr",
     "output_type": "stream",
     "text": [
      "\u001b[32m2024-10-23 18:29:01.047\u001b[0m | \u001b[1mINFO    \u001b[0m | \u001b[36mlearn_convnet.config\u001b[0m:\u001b[36m<module>\u001b[0m:\u001b[36m11\u001b[0m - \u001b[1mPROJ_ROOT path is: C:\\Users\\blanc\\Documents\\GitHub\\learn-convnet\u001b[0m\n"
     ]
    }
   ],
   "source": [
    "import pathlib as pl\n",
    "import typer as ty\n",
    "import learn_convnet.config as cfg\n",
    "import numpy as np\n",
    "import tensorflow as tf\n",
    "import keras as kr\n",
    "import loguru as lg\n",
    "import kaggle as kg\n",
    "import os"
   ]
  },
  {
   "cell_type": "code",
   "execution_count": 6,
   "metadata": {},
   "outputs": [],
   "source": [
    "def set_seed_of_rand_numbers():\n",
    "    seed = int(os.environ.get(\"PYTHONHASHSEED\") or cfg.DEFAULT_PYTHONHASHSEED)\n",
    "    np.random.seed(seed)\n",
    "    tf.random.set_seed(seed)\n",
    "\n",
    "\n",
    "def process_dataset(raw_data_dir: pl.Path) -> tuple[tf.data.Dataset, tf.data.Dataset]:\n",
    "    dataset_train = get_images_and_labels(raw_data_dir=raw_data_dir / \"train\")\n",
    "    dataset_valid = get_images_and_labels(raw_data_dir=raw_data_dir / \"valid\")\n",
    "    return (dataset_train, dataset_valid)\n",
    "\n",
    "\n",
    "def get_images_and_labels(raw_data_dir: pl.Path) -> tf.data.Dataset:\n",
    "    raw_data_dir.resolve()\n",
    "    raw_images = kr.preprocessing.image_dataset_from_directory(\n",
    "        directory=raw_data_dir,\n",
    "        labels=\"inferred\",\n",
    "        label_mode=\"binary\",\n",
    "        image_size=[128, 128],\n",
    "        interpolation=\"nearest\",\n",
    "        batch_size=64,\n",
    "        shuffle=False,\n",
    "    )\n",
    "\n",
    "    convert_image = tf.image.convert_image_dtype\n",
    "\n",
    "    def convert_image_to_float32(image, label):\n",
    "        return convert_image(image, tf.float32), label\n",
    "\n",
    "    images_dataset = (\n",
    "        raw_images.map(convert_image_to_float32)  # type: ignore\n",
    "        .cache()\n",
    "        .prefetch(tf.data.experimental.AUTOTUNE)\n",
    "    )\n",
    "\n",
    "    return images_dataset"
   ]
  },
  {
   "cell_type": "code",
   "execution_count": 7,
   "metadata": {},
   "outputs": [
    {
     "name": "stdout",
     "output_type": "stream",
     "text": [
      "Found 5117 files belonging to 2 classes.\n",
      "Found 5051 files belonging to 2 classes.\n"
     ]
    }
   ],
   "source": [
    "dataset_train, dataset_valid = process_dataset(raw_data_dir=cfg.RAW_DATA_DIR)"
   ]
  },
  {
   "cell_type": "code",
   "execution_count": 8,
   "metadata": {},
   "outputs": [
    {
     "data": {
      "text/plain": [
       "<_PrefetchDataset element_spec=(TensorSpec(shape=(None, 128, 128, 3), dtype=tf.float32, name=None), TensorSpec(shape=(None, 1), dtype=tf.float32, name=None))>"
      ]
     },
     "execution_count": 8,
     "metadata": {},
     "output_type": "execute_result"
    }
   ],
   "source": [
    "dataset_train"
   ]
  },
  {
   "cell_type": "markdown",
   "metadata": {},
   "source": [
    "## Usando dataset pre entrenado\n"
   ]
  },
  {
   "cell_type": "code",
   "execution_count": 11,
   "metadata": {},
   "outputs": [
    {
     "name": "stdout",
     "output_type": "stream",
     "text": [
      "Downloading data from https://storage.googleapis.com/tensorflow/keras-applications/vgg16/vgg16_weights_tf_dim_ordering_tf_kernels_notop.h5\n",
      "\u001b[1m58889256/58889256\u001b[0m \u001b[32m━━━━━━━━━━━━━━━━━━━━\u001b[0m\u001b[37m\u001b[0m \u001b[1m8s\u001b[0m 0us/step\n"
     ]
    }
   ],
   "source": [
    "vgg16 = kr.applications.VGG16(\n",
    "    include_top=False,\n",
    "    weights=\"imagenet\",\n",
    "    input_shape=(128, 128, 3),\n",
    ")"
   ]
  },
  {
   "cell_type": "code",
   "execution_count": 12,
   "metadata": {},
   "outputs": [],
   "source": [
    "model = kr.models.Sequential(\n",
    "    layers=[\n",
    "        vgg16,\n",
    "        kr.layers.Flatten(),\n",
    "        kr.layers.Dense(6, activation=\"relu\"),\n",
    "        kr.layers.Dense(1, activation=\"sigmoid\"),\n",
    "    ]\n",
    ")"
   ]
  },
  {
   "cell_type": "code",
   "execution_count": 14,
   "metadata": {},
   "outputs": [
    {
     "name": "stdout",
     "output_type": "stream",
     "text": [
      "Epoch 1/8\n",
      "Epoch 2/8\n",
      "Epoch 3/8\n",
      "Epoch 4/8\n",
      "Epoch 5/8\n",
      "Epoch 6/8\n",
      "Epoch 7/8\n",
      "Epoch 8/8\n"
     ]
    }
   ],
   "source": [
    "model.compile(\n",
    "    optimizer=\"adam\",\n",
    "    loss=\"binary_crossentropy\",\n",
    "    metrics=[\"binary_accuracy\"],\n",
    ")\n",
    "\n",
    "history = model.fit(\n",
    "    dataset_train,\n",
    "    validation_data=dataset_valid,\n",
    "    epochs=8,\n",
    "    verbose=\"0\",\n",
    ")"
   ]
  },
  {
   "cell_type": "code",
   "execution_count": 20,
   "metadata": {},
   "outputs": [
    {
     "data": {
      "text/html": [
       "<div>\n",
       "<style scoped>\n",
       "    .dataframe tbody tr th:only-of-type {\n",
       "        vertical-align: middle;\n",
       "    }\n",
       "\n",
       "    .dataframe tbody tr th {\n",
       "        vertical-align: top;\n",
       "    }\n",
       "\n",
       "    .dataframe thead th {\n",
       "        text-align: right;\n",
       "    }\n",
       "</style>\n",
       "<table border=\"1\" class=\"dataframe\">\n",
       "  <thead>\n",
       "    <tr style=\"text-align: right;\">\n",
       "      <th></th>\n",
       "      <th>binary_accuracy</th>\n",
       "      <th>loss</th>\n",
       "      <th>val_binary_accuracy</th>\n",
       "      <th>val_loss</th>\n",
       "    </tr>\n",
       "  </thead>\n",
       "  <tbody>\n",
       "    <tr>\n",
       "      <th>0</th>\n",
       "      <td>0.578659</td>\n",
       "      <td>0.689529</td>\n",
       "      <td>0.578499</td>\n",
       "      <td>0.685119</td>\n",
       "    </tr>\n",
       "    <tr>\n",
       "      <th>1</th>\n",
       "      <td>0.578659</td>\n",
       "      <td>0.687905</td>\n",
       "      <td>0.578499</td>\n",
       "      <td>0.684786</td>\n",
       "    </tr>\n",
       "    <tr>\n",
       "      <th>2</th>\n",
       "      <td>0.578659</td>\n",
       "      <td>0.687546</td>\n",
       "      <td>0.578499</td>\n",
       "      <td>0.684485</td>\n",
       "    </tr>\n",
       "    <tr>\n",
       "      <th>3</th>\n",
       "      <td>0.578659</td>\n",
       "      <td>0.687230</td>\n",
       "      <td>0.578499</td>\n",
       "      <td>0.684210</td>\n",
       "    </tr>\n",
       "    <tr>\n",
       "      <th>4</th>\n",
       "      <td>0.578659</td>\n",
       "      <td>0.686944</td>\n",
       "      <td>0.578499</td>\n",
       "      <td>0.683956</td>\n",
       "    </tr>\n",
       "    <tr>\n",
       "      <th>5</th>\n",
       "      <td>0.578659</td>\n",
       "      <td>0.686681</td>\n",
       "      <td>0.578499</td>\n",
       "      <td>0.683723</td>\n",
       "    </tr>\n",
       "    <tr>\n",
       "      <th>6</th>\n",
       "      <td>0.578659</td>\n",
       "      <td>0.686438</td>\n",
       "      <td>0.578499</td>\n",
       "      <td>0.683506</td>\n",
       "    </tr>\n",
       "    <tr>\n",
       "      <th>7</th>\n",
       "      <td>0.578659</td>\n",
       "      <td>0.686215</td>\n",
       "      <td>0.578499</td>\n",
       "      <td>0.683308</td>\n",
       "    </tr>\n",
       "  </tbody>\n",
       "</table>\n",
       "</div>"
      ],
      "text/plain": [
       "   binary_accuracy      loss  val_binary_accuracy  val_loss\n",
       "0         0.578659  0.689529             0.578499  0.685119\n",
       "1         0.578659  0.687905             0.578499  0.684786\n",
       "2         0.578659  0.687546             0.578499  0.684485\n",
       "3         0.578659  0.687230             0.578499  0.684210\n",
       "4         0.578659  0.686944             0.578499  0.683956\n",
       "5         0.578659  0.686681             0.578499  0.683723\n",
       "6         0.578659  0.686438             0.578499  0.683506\n",
       "7         0.578659  0.686215             0.578499  0.683308"
      ]
     },
     "execution_count": 20,
     "metadata": {},
     "output_type": "execute_result"
    }
   ],
   "source": [
    "history"
   ]
  }
 ],
 "metadata": {
  "kernelspec": {
   "display_name": "learn-convnet-2hVZXxyW",
   "language": "python",
   "name": "python3"
  },
  "language_info": {
   "codemirror_mode": {
    "name": "ipython",
    "version": 3
   },
   "file_extension": ".py",
   "mimetype": "text/x-python",
   "name": "python",
   "nbconvert_exporter": "python",
   "pygments_lexer": "ipython3",
   "version": "3.11.4"
  }
 },
 "nbformat": 4,
 "nbformat_minor": 2
}
